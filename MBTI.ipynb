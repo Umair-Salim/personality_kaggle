{
 "cells": [
  {
   "cell_type": "code",
   "execution_count": 7,
   "metadata": {},
   "outputs": [],
   "source": [
    "## Importing the libraries\n",
    "import pandas as pd  # for data manipulation and analysis\n",
    "import numpy as np  # for scientific computing with Python\n",
    "import matplotlib.pyplot as plt # for data visualization\n",
    "import seaborn as sns # for data visualization\n",
    "%matplotlib inline  \n",
    "import plotly.express as px # for interactive plots\n",
    "from scipy.stats import shapiro, skew # for checking the normality of the data\n",
    "from sklearn.linear_model import LogisticRegression # for logistic regression\n",
    "lr = LogisticRegression() # defining the logistic regression model\n",
    "from sklearn.ensemble import RandomForestClassifier # for random forest classifier\n",
    "rf = RandomForestClassifier() # defining the random forest classifier model\n",
    "from sklearn.neighbors import KNeighborsClassifier # for KNN classifier\n",
    "knn = KNeighborsClassifier() # defining the KNN classifier model\n",
    "from sklearn.model_selection import train_test_split # for splitting the data into train and test\n",
    "from sklearn.metrics import accuracy_score, confusion_matrix, classification_report,recall_score, precision_score, f1_score # for evaluating the model\n",
    "from sklearn.preprocessing import StandardScaler,MinMaxScaler,QuantileTransformer # for standardizing the data\n",
    "s_scaler = StandardScaler() # defining the standard scaler\n",
    "m_scaler = MinMaxScaler() # defining the min max scaler\n",
    "q_scaler = QuantileTransformer() # defining the quantile transformer\n",
    "from sklearn.preprocessing import LabelEncoder # for encoding the categorical data\n",
    "encoder = LabelEncoder() # defining the encoder\n",
    "from warnings import filterwarnings # for ignoring the warnings\n",
    "filterwarnings('ignore')"
   ]
  },
  {
   "cell_type": "code",
   "execution_count": 2,
   "metadata": {},
   "outputs": [
    {
     "data": {
      "text/html": [
       "<div>\n",
       "<style scoped>\n",
       "    .dataframe tbody tr th:only-of-type {\n",
       "        vertical-align: middle;\n",
       "    }\n",
       "\n",
       "    .dataframe tbody tr th {\n",
       "        vertical-align: top;\n",
       "    }\n",
       "\n",
       "    .dataframe thead th {\n",
       "        text-align: right;\n",
       "    }\n",
       "</style>\n",
       "<table border=\"1\" class=\"dataframe\">\n",
       "  <thead>\n",
       "    <tr style=\"text-align: right;\">\n",
       "      <th></th>\n",
       "      <th>S No</th>\n",
       "      <th>AGE</th>\n",
       "      <th>HEIGHT</th>\n",
       "      <th>WEIGHT</th>\n",
       "      <th>SEX</th>\n",
       "      <th>ACTIVITY LEVEL</th>\n",
       "      <th>PAIN 1</th>\n",
       "      <th>PAIN 2</th>\n",
       "      <th>PAIN 3</th>\n",
       "      <th>PAIN 4</th>\n",
       "      <th>MBTI</th>\n",
       "      <th>E</th>\n",
       "      <th>I</th>\n",
       "      <th>S</th>\n",
       "      <th>N</th>\n",
       "      <th>T</th>\n",
       "      <th>F</th>\n",
       "      <th>J</th>\n",
       "      <th>P</th>\n",
       "      <th>POSTURE</th>\n",
       "    </tr>\n",
       "  </thead>\n",
       "  <tbody>\n",
       "    <tr>\n",
       "      <th>0</th>\n",
       "      <td>1</td>\n",
       "      <td>53</td>\n",
       "      <td>62</td>\n",
       "      <td>125</td>\n",
       "      <td>Female</td>\n",
       "      <td>Low</td>\n",
       "      <td>0.0</td>\n",
       "      <td>0.0</td>\n",
       "      <td>0.0</td>\n",
       "      <td>0.0</td>\n",
       "      <td>ESFJ</td>\n",
       "      <td>18</td>\n",
       "      <td>3</td>\n",
       "      <td>17</td>\n",
       "      <td>9</td>\n",
       "      <td>9</td>\n",
       "      <td>13</td>\n",
       "      <td>18</td>\n",
       "      <td>4</td>\n",
       "      <td>A</td>\n",
       "    </tr>\n",
       "    <tr>\n",
       "      <th>1</th>\n",
       "      <td>2</td>\n",
       "      <td>52</td>\n",
       "      <td>69</td>\n",
       "      <td>157</td>\n",
       "      <td>Male</td>\n",
       "      <td>High</td>\n",
       "      <td>7.0</td>\n",
       "      <td>8.0</td>\n",
       "      <td>5.0</td>\n",
       "      <td>3.0</td>\n",
       "      <td>ISTJ</td>\n",
       "      <td>6</td>\n",
       "      <td>15</td>\n",
       "      <td>14</td>\n",
       "      <td>12</td>\n",
       "      <td>21</td>\n",
       "      <td>3</td>\n",
       "      <td>13</td>\n",
       "      <td>9</td>\n",
       "      <td>B</td>\n",
       "    </tr>\n",
       "    <tr>\n",
       "      <th>2</th>\n",
       "      <td>3</td>\n",
       "      <td>30</td>\n",
       "      <td>69</td>\n",
       "      <td>200</td>\n",
       "      <td>Male</td>\n",
       "      <td>High</td>\n",
       "      <td>0.0</td>\n",
       "      <td>0.0</td>\n",
       "      <td>0.0</td>\n",
       "      <td>0.0</td>\n",
       "      <td>ESTJ</td>\n",
       "      <td>15</td>\n",
       "      <td>6</td>\n",
       "      <td>16</td>\n",
       "      <td>10</td>\n",
       "      <td>15</td>\n",
       "      <td>9</td>\n",
       "      <td>12</td>\n",
       "      <td>10</td>\n",
       "      <td>A</td>\n",
       "    </tr>\n",
       "    <tr>\n",
       "      <th>3</th>\n",
       "      <td>4</td>\n",
       "      <td>51</td>\n",
       "      <td>66</td>\n",
       "      <td>175</td>\n",
       "      <td>Male</td>\n",
       "      <td>Moderate</td>\n",
       "      <td>9.5</td>\n",
       "      <td>9.5</td>\n",
       "      <td>9.5</td>\n",
       "      <td>1.5</td>\n",
       "      <td>ISTJ</td>\n",
       "      <td>6</td>\n",
       "      <td>15</td>\n",
       "      <td>21</td>\n",
       "      <td>5</td>\n",
       "      <td>13</td>\n",
       "      <td>11</td>\n",
       "      <td>19</td>\n",
       "      <td>3</td>\n",
       "      <td>D</td>\n",
       "    </tr>\n",
       "    <tr>\n",
       "      <th>4</th>\n",
       "      <td>5</td>\n",
       "      <td>45</td>\n",
       "      <td>63</td>\n",
       "      <td>199</td>\n",
       "      <td>Female</td>\n",
       "      <td>Moderate</td>\n",
       "      <td>4.0</td>\n",
       "      <td>5.0</td>\n",
       "      <td>2.0</td>\n",
       "      <td>2.0</td>\n",
       "      <td>ENFJ</td>\n",
       "      <td>14</td>\n",
       "      <td>7</td>\n",
       "      <td>20</td>\n",
       "      <td>6</td>\n",
       "      <td>9</td>\n",
       "      <td>15</td>\n",
       "      <td>16</td>\n",
       "      <td>6</td>\n",
       "      <td>A</td>\n",
       "    </tr>\n",
       "  </tbody>\n",
       "</table>\n",
       "</div>"
      ],
      "text/plain": [
       "   S No  AGE  HEIGHT  WEIGHT     SEX ACTIVITY LEVEL  PAIN 1  PAIN 2  PAIN 3  \\\n",
       "0     1   53      62     125  Female            Low     0.0     0.0     0.0   \n",
       "1     2   52      69     157    Male           High     7.0     8.0     5.0   \n",
       "2     3   30      69     200    Male           High     0.0     0.0     0.0   \n",
       "3     4   51      66     175    Male       Moderate     9.5     9.5     9.5   \n",
       "4     5   45      63     199  Female       Moderate     4.0     5.0     2.0   \n",
       "\n",
       "   PAIN 4  MBTI   E   I   S   N   T   F   J   P POSTURE  \n",
       "0     0.0  ESFJ  18   3  17   9   9  13  18   4       A  \n",
       "1     3.0  ISTJ   6  15  14  12  21   3  13   9       B  \n",
       "2     0.0  ESTJ  15   6  16  10  15   9  12  10       A  \n",
       "3     1.5  ISTJ   6  15  21   5  13  11  19   3       D  \n",
       "4     2.0  ENFJ  14   7  20   6   9  15  16   6       A  "
      ]
     },
     "execution_count": 2,
     "metadata": {},
     "output_type": "execute_result"
    }
   ],
   "source": [
    "## Importing the dataset\n",
    "df = pd.read_csv('Myers Briggs Table_S1.csv')\n",
    "df.head()"
   ]
  },
  {
   "cell_type": "code",
   "execution_count": 3,
   "metadata": {},
   "outputs": [
    {
     "data": {
      "text/html": [
       "<div>\n",
       "<style scoped>\n",
       "    .dataframe tbody tr th:only-of-type {\n",
       "        vertical-align: middle;\n",
       "    }\n",
       "\n",
       "    .dataframe tbody tr th {\n",
       "        vertical-align: top;\n",
       "    }\n",
       "\n",
       "    .dataframe thead th {\n",
       "        text-align: right;\n",
       "    }\n",
       "</style>\n",
       "<table border=\"1\" class=\"dataframe\">\n",
       "  <thead>\n",
       "    <tr style=\"text-align: right;\">\n",
       "      <th></th>\n",
       "      <th>AGE</th>\n",
       "      <th>HEIGHT</th>\n",
       "      <th>WEIGHT</th>\n",
       "      <th>SEX</th>\n",
       "      <th>ACTIVITY LEVEL</th>\n",
       "      <th>PAIN 1</th>\n",
       "      <th>PAIN 2</th>\n",
       "      <th>PAIN 3</th>\n",
       "      <th>PAIN 4</th>\n",
       "      <th>MBTI</th>\n",
       "      <th>E</th>\n",
       "      <th>I</th>\n",
       "      <th>S</th>\n",
       "      <th>N</th>\n",
       "      <th>T</th>\n",
       "      <th>F</th>\n",
       "      <th>J</th>\n",
       "      <th>P</th>\n",
       "      <th>POSTURE</th>\n",
       "    </tr>\n",
       "  </thead>\n",
       "  <tbody>\n",
       "    <tr>\n",
       "      <th>0</th>\n",
       "      <td>53</td>\n",
       "      <td>62</td>\n",
       "      <td>125</td>\n",
       "      <td>Female</td>\n",
       "      <td>Low</td>\n",
       "      <td>0.0</td>\n",
       "      <td>0.0</td>\n",
       "      <td>0.0</td>\n",
       "      <td>0.0</td>\n",
       "      <td>ESFJ</td>\n",
       "      <td>18</td>\n",
       "      <td>3</td>\n",
       "      <td>17</td>\n",
       "      <td>9</td>\n",
       "      <td>9</td>\n",
       "      <td>13</td>\n",
       "      <td>18</td>\n",
       "      <td>4</td>\n",
       "      <td>A</td>\n",
       "    </tr>\n",
       "    <tr>\n",
       "      <th>1</th>\n",
       "      <td>52</td>\n",
       "      <td>69</td>\n",
       "      <td>157</td>\n",
       "      <td>Male</td>\n",
       "      <td>High</td>\n",
       "      <td>7.0</td>\n",
       "      <td>8.0</td>\n",
       "      <td>5.0</td>\n",
       "      <td>3.0</td>\n",
       "      <td>ISTJ</td>\n",
       "      <td>6</td>\n",
       "      <td>15</td>\n",
       "      <td>14</td>\n",
       "      <td>12</td>\n",
       "      <td>21</td>\n",
       "      <td>3</td>\n",
       "      <td>13</td>\n",
       "      <td>9</td>\n",
       "      <td>B</td>\n",
       "    </tr>\n",
       "    <tr>\n",
       "      <th>2</th>\n",
       "      <td>30</td>\n",
       "      <td>69</td>\n",
       "      <td>200</td>\n",
       "      <td>Male</td>\n",
       "      <td>High</td>\n",
       "      <td>0.0</td>\n",
       "      <td>0.0</td>\n",
       "      <td>0.0</td>\n",
       "      <td>0.0</td>\n",
       "      <td>ESTJ</td>\n",
       "      <td>15</td>\n",
       "      <td>6</td>\n",
       "      <td>16</td>\n",
       "      <td>10</td>\n",
       "      <td>15</td>\n",
       "      <td>9</td>\n",
       "      <td>12</td>\n",
       "      <td>10</td>\n",
       "      <td>A</td>\n",
       "    </tr>\n",
       "    <tr>\n",
       "      <th>3</th>\n",
       "      <td>51</td>\n",
       "      <td>66</td>\n",
       "      <td>175</td>\n",
       "      <td>Male</td>\n",
       "      <td>Moderate</td>\n",
       "      <td>9.5</td>\n",
       "      <td>9.5</td>\n",
       "      <td>9.5</td>\n",
       "      <td>1.5</td>\n",
       "      <td>ISTJ</td>\n",
       "      <td>6</td>\n",
       "      <td>15</td>\n",
       "      <td>21</td>\n",
       "      <td>5</td>\n",
       "      <td>13</td>\n",
       "      <td>11</td>\n",
       "      <td>19</td>\n",
       "      <td>3</td>\n",
       "      <td>D</td>\n",
       "    </tr>\n",
       "    <tr>\n",
       "      <th>4</th>\n",
       "      <td>45</td>\n",
       "      <td>63</td>\n",
       "      <td>199</td>\n",
       "      <td>Female</td>\n",
       "      <td>Moderate</td>\n",
       "      <td>4.0</td>\n",
       "      <td>5.0</td>\n",
       "      <td>2.0</td>\n",
       "      <td>2.0</td>\n",
       "      <td>ENFJ</td>\n",
       "      <td>14</td>\n",
       "      <td>7</td>\n",
       "      <td>20</td>\n",
       "      <td>6</td>\n",
       "      <td>9</td>\n",
       "      <td>15</td>\n",
       "      <td>16</td>\n",
       "      <td>6</td>\n",
       "      <td>A</td>\n",
       "    </tr>\n",
       "  </tbody>\n",
       "</table>\n",
       "</div>"
      ],
      "text/plain": [
       "   AGE  HEIGHT  WEIGHT     SEX ACTIVITY LEVEL  PAIN 1  PAIN 2  PAIN 3  PAIN 4  \\\n",
       "0   53      62     125  Female            Low     0.0     0.0     0.0     0.0   \n",
       "1   52      69     157    Male           High     7.0     8.0     5.0     3.0   \n",
       "2   30      69     200    Male           High     0.0     0.0     0.0     0.0   \n",
       "3   51      66     175    Male       Moderate     9.5     9.5     9.5     1.5   \n",
       "4   45      63     199  Female       Moderate     4.0     5.0     2.0     2.0   \n",
       "\n",
       "   MBTI   E   I   S   N   T   F   J   P POSTURE  \n",
       "0  ESFJ  18   3  17   9   9  13  18   4       A  \n",
       "1  ISTJ   6  15  14  12  21   3  13   9       B  \n",
       "2  ESTJ  15   6  16  10  15   9  12  10       A  \n",
       "3  ISTJ   6  15  21   5  13  11  19   3       D  \n",
       "4  ENFJ  14   7  20   6   9  15  16   6       A  "
      ]
     },
     "execution_count": 3,
     "metadata": {},
     "output_type": "execute_result"
    }
   ],
   "source": [
    "## Dropping the S No column\n",
    "df1 = df.drop(['S No'], axis=1)\n",
    "df1.head()"
   ]
  },
  {
   "cell_type": "code",
   "execution_count": 68,
   "metadata": {},
   "outputs": [
    {
     "data": {
      "text/plain": [
       "<bound method Series.unique of 0     53\n",
       "1     52\n",
       "2     30\n",
       "3     51\n",
       "4     45\n",
       "      ..\n",
       "92    16\n",
       "93    45\n",
       "94    43\n",
       "95    28\n",
       "96    43\n",
       "Name: AGE, Length: 97, dtype: int64>"
      ]
     },
     "execution_count": 68,
     "metadata": {},
     "output_type": "execute_result"
    }
   ],
   "source": [
    "df['AGE'].unique"
   ]
  },
  {
   "cell_type": "code",
   "execution_count": 88,
   "metadata": {},
   "outputs": [
    {
     "data": {
      "text/html": [
       "<div>\n",
       "<style scoped>\n",
       "    .dataframe tbody tr th:only-of-type {\n",
       "        vertical-align: middle;\n",
       "    }\n",
       "\n",
       "    .dataframe tbody tr th {\n",
       "        vertical-align: top;\n",
       "    }\n",
       "\n",
       "    .dataframe thead th {\n",
       "        text-align: right;\n",
       "    }\n",
       "</style>\n",
       "<table border=\"1\" class=\"dataframe\">\n",
       "  <thead>\n",
       "    <tr style=\"text-align: right;\">\n",
       "      <th></th>\n",
       "      <th>S No</th>\n",
       "      <th>AGE</th>\n",
       "      <th>HEIGHT</th>\n",
       "      <th>WEIGHT</th>\n",
       "      <th>PAIN 1</th>\n",
       "      <th>PAIN 2</th>\n",
       "      <th>PAIN 3</th>\n",
       "      <th>PAIN 4</th>\n",
       "      <th>E</th>\n",
       "      <th>I</th>\n",
       "      <th>S</th>\n",
       "      <th>N</th>\n",
       "      <th>T</th>\n",
       "      <th>F</th>\n",
       "      <th>J</th>\n",
       "      <th>P</th>\n",
       "    </tr>\n",
       "    <tr>\n",
       "      <th>MBTI</th>\n",
       "      <th></th>\n",
       "      <th></th>\n",
       "      <th></th>\n",
       "      <th></th>\n",
       "      <th></th>\n",
       "      <th></th>\n",
       "      <th></th>\n",
       "      <th></th>\n",
       "      <th></th>\n",
       "      <th></th>\n",
       "      <th></th>\n",
       "      <th></th>\n",
       "      <th></th>\n",
       "      <th></th>\n",
       "      <th></th>\n",
       "      <th></th>\n",
       "    </tr>\n",
       "  </thead>\n",
       "  <tbody>\n",
       "    <tr>\n",
       "      <th>ENFJ</th>\n",
       "      <td>44.400000</td>\n",
       "      <td>33.000000</td>\n",
       "      <td>66.200000</td>\n",
       "      <td>163.200000</td>\n",
       "      <td>2.800000</td>\n",
       "      <td>5.200000</td>\n",
       "      <td>2.800000</td>\n",
       "      <td>3.400000</td>\n",
       "      <td>16.800000</td>\n",
       "      <td>4.200000</td>\n",
       "      <td>11.200000</td>\n",
       "      <td>14.400000</td>\n",
       "      <td>5.800000</td>\n",
       "      <td>18.000000</td>\n",
       "      <td>15.200000</td>\n",
       "      <td>6.800000</td>\n",
       "    </tr>\n",
       "    <tr>\n",
       "      <th>ENFP</th>\n",
       "      <td>62.400000</td>\n",
       "      <td>42.600000</td>\n",
       "      <td>65.000000</td>\n",
       "      <td>159.000000</td>\n",
       "      <td>2.200000</td>\n",
       "      <td>2.000000</td>\n",
       "      <td>1.500000</td>\n",
       "      <td>1.200000</td>\n",
       "      <td>17.600000</td>\n",
       "      <td>3.400000</td>\n",
       "      <td>8.800000</td>\n",
       "      <td>17.200000</td>\n",
       "      <td>5.500000</td>\n",
       "      <td>18.500000</td>\n",
       "      <td>3.500000</td>\n",
       "      <td>18.500000</td>\n",
       "    </tr>\n",
       "    <tr>\n",
       "      <th>ENTJ</th>\n",
       "      <td>47.000000</td>\n",
       "      <td>36.200000</td>\n",
       "      <td>67.800000</td>\n",
       "      <td>164.000000</td>\n",
       "      <td>1.100000</td>\n",
       "      <td>4.300000</td>\n",
       "      <td>1.700000</td>\n",
       "      <td>1.500000</td>\n",
       "      <td>17.200000</td>\n",
       "      <td>3.800000</td>\n",
       "      <td>10.400000</td>\n",
       "      <td>15.600000</td>\n",
       "      <td>12.600000</td>\n",
       "      <td>11.400000</td>\n",
       "      <td>15.400000</td>\n",
       "      <td>6.600000</td>\n",
       "    </tr>\n",
       "    <tr>\n",
       "      <th>ENTP</th>\n",
       "      <td>56.400000</td>\n",
       "      <td>47.800000</td>\n",
       "      <td>65.600000</td>\n",
       "      <td>194.600000</td>\n",
       "      <td>1.800000</td>\n",
       "      <td>3.700000</td>\n",
       "      <td>0.600000</td>\n",
       "      <td>4.400000</td>\n",
       "      <td>16.600000</td>\n",
       "      <td>4.400000</td>\n",
       "      <td>9.200000</td>\n",
       "      <td>16.800000</td>\n",
       "      <td>17.600000</td>\n",
       "      <td>6.400000</td>\n",
       "      <td>6.400000</td>\n",
       "      <td>15.400000</td>\n",
       "    </tr>\n",
       "    <tr>\n",
       "      <th>ESFJ</th>\n",
       "      <td>54.909091</td>\n",
       "      <td>45.727273</td>\n",
       "      <td>64.909091</td>\n",
       "      <td>156.636364</td>\n",
       "      <td>2.363636</td>\n",
       "      <td>2.590909</td>\n",
       "      <td>1.954545</td>\n",
       "      <td>3.636364</td>\n",
       "      <td>15.000000</td>\n",
       "      <td>6.000000</td>\n",
       "      <td>17.909091</td>\n",
       "      <td>9.909091</td>\n",
       "      <td>8.000000</td>\n",
       "      <td>15.818182</td>\n",
       "      <td>14.909091</td>\n",
       "      <td>7.090909</td>\n",
       "    </tr>\n",
       "    <tr>\n",
       "      <th>ESFP</th>\n",
       "      <td>56.416667</td>\n",
       "      <td>40.583333</td>\n",
       "      <td>64.916667</td>\n",
       "      <td>154.500000</td>\n",
       "      <td>2.333333</td>\n",
       "      <td>3.916667</td>\n",
       "      <td>1.125000</td>\n",
       "      <td>1.833333</td>\n",
       "      <td>16.083333</td>\n",
       "      <td>4.916667</td>\n",
       "      <td>17.000000</td>\n",
       "      <td>8.916667</td>\n",
       "      <td>7.083333</td>\n",
       "      <td>16.750000</td>\n",
       "      <td>5.916667</td>\n",
       "      <td>16.083333</td>\n",
       "    </tr>\n",
       "    <tr>\n",
       "      <th>ESTJ</th>\n",
       "      <td>38.571429</td>\n",
       "      <td>55.285714</td>\n",
       "      <td>65.714286</td>\n",
       "      <td>165.142857</td>\n",
       "      <td>1.714286</td>\n",
       "      <td>3.428571</td>\n",
       "      <td>2.928571</td>\n",
       "      <td>4.785714</td>\n",
       "      <td>14.285714</td>\n",
       "      <td>6.714286</td>\n",
       "      <td>17.428571</td>\n",
       "      <td>8.571429</td>\n",
       "      <td>14.428571</td>\n",
       "      <td>9.571429</td>\n",
       "      <td>16.428571</td>\n",
       "      <td>5.571429</td>\n",
       "    </tr>\n",
       "    <tr>\n",
       "      <th>ESTP</th>\n",
       "      <td>44.000000</td>\n",
       "      <td>39.800000</td>\n",
       "      <td>67.100000</td>\n",
       "      <td>163.200000</td>\n",
       "      <td>1.200000</td>\n",
       "      <td>3.200000</td>\n",
       "      <td>1.700000</td>\n",
       "      <td>2.850000</td>\n",
       "      <td>16.200000</td>\n",
       "      <td>4.800000</td>\n",
       "      <td>19.100000</td>\n",
       "      <td>6.900000</td>\n",
       "      <td>16.100000</td>\n",
       "      <td>7.900000</td>\n",
       "      <td>6.800000</td>\n",
       "      <td>15.200000</td>\n",
       "    </tr>\n",
       "    <tr>\n",
       "      <th>INFJ</th>\n",
       "      <td>34.750000</td>\n",
       "      <td>36.250000</td>\n",
       "      <td>65.750000</td>\n",
       "      <td>136.500000</td>\n",
       "      <td>2.500000</td>\n",
       "      <td>4.875000</td>\n",
       "      <td>5.000000</td>\n",
       "      <td>2.750000</td>\n",
       "      <td>5.250000</td>\n",
       "      <td>15.250000</td>\n",
       "      <td>13.750000</td>\n",
       "      <td>12.250000</td>\n",
       "      <td>8.000000</td>\n",
       "      <td>16.000000</td>\n",
       "      <td>15.250000</td>\n",
       "      <td>6.750000</td>\n",
       "    </tr>\n",
       "    <tr>\n",
       "      <th>INFP</th>\n",
       "      <td>59.200000</td>\n",
       "      <td>36.200000</td>\n",
       "      <td>64.800000</td>\n",
       "      <td>132.200000</td>\n",
       "      <td>2.000000</td>\n",
       "      <td>4.400000</td>\n",
       "      <td>2.600000</td>\n",
       "      <td>2.600000</td>\n",
       "      <td>6.200000</td>\n",
       "      <td>14.800000</td>\n",
       "      <td>10.200000</td>\n",
       "      <td>15.800000</td>\n",
       "      <td>7.400000</td>\n",
       "      <td>16.600000</td>\n",
       "      <td>6.600000</td>\n",
       "      <td>15.400000</td>\n",
       "    </tr>\n",
       "    <tr>\n",
       "      <th>INTJ</th>\n",
       "      <td>67.000000</td>\n",
       "      <td>24.000000</td>\n",
       "      <td>73.000000</td>\n",
       "      <td>155.000000</td>\n",
       "      <td>2.000000</td>\n",
       "      <td>3.000000</td>\n",
       "      <td>0.000000</td>\n",
       "      <td>0.000000</td>\n",
       "      <td>5.000000</td>\n",
       "      <td>16.000000</td>\n",
       "      <td>9.000000</td>\n",
       "      <td>17.000000</td>\n",
       "      <td>14.000000</td>\n",
       "      <td>10.000000</td>\n",
       "      <td>17.000000</td>\n",
       "      <td>5.000000</td>\n",
       "    </tr>\n",
       "    <tr>\n",
       "      <th>ISFJ</th>\n",
       "      <td>49.000000</td>\n",
       "      <td>41.400000</td>\n",
       "      <td>64.600000</td>\n",
       "      <td>144.200000</td>\n",
       "      <td>2.200000</td>\n",
       "      <td>3.000000</td>\n",
       "      <td>0.400000</td>\n",
       "      <td>1.000000</td>\n",
       "      <td>4.400000</td>\n",
       "      <td>16.600000</td>\n",
       "      <td>19.800000</td>\n",
       "      <td>6.200000</td>\n",
       "      <td>8.600000</td>\n",
       "      <td>15.400000</td>\n",
       "      <td>15.800000</td>\n",
       "      <td>6.400000</td>\n",
       "    </tr>\n",
       "    <tr>\n",
       "      <th>ISFP</th>\n",
       "      <td>45.428571</td>\n",
       "      <td>55.857143</td>\n",
       "      <td>66.000000</td>\n",
       "      <td>157.714286</td>\n",
       "      <td>1.428571</td>\n",
       "      <td>6.214286</td>\n",
       "      <td>1.642857</td>\n",
       "      <td>2.428571</td>\n",
       "      <td>6.571429</td>\n",
       "      <td>14.428571</td>\n",
       "      <td>17.714286</td>\n",
       "      <td>8.285714</td>\n",
       "      <td>8.285714</td>\n",
       "      <td>15.714286</td>\n",
       "      <td>6.142857</td>\n",
       "      <td>15.857143</td>\n",
       "    </tr>\n",
       "    <tr>\n",
       "      <th>ISTJ</th>\n",
       "      <td>28.333333</td>\n",
       "      <td>52.500000</td>\n",
       "      <td>66.166667</td>\n",
       "      <td>155.500000</td>\n",
       "      <td>4.416667</td>\n",
       "      <td>4.416667</td>\n",
       "      <td>2.416667</td>\n",
       "      <td>0.750000</td>\n",
       "      <td>5.333333</td>\n",
       "      <td>15.666667</td>\n",
       "      <td>17.500000</td>\n",
       "      <td>8.500000</td>\n",
       "      <td>17.833333</td>\n",
       "      <td>6.166667</td>\n",
       "      <td>17.166667</td>\n",
       "      <td>4.833333</td>\n",
       "    </tr>\n",
       "    <tr>\n",
       "      <th>ISTP</th>\n",
       "      <td>41.000000</td>\n",
       "      <td>51.250000</td>\n",
       "      <td>65.500000</td>\n",
       "      <td>195.250000</td>\n",
       "      <td>2.375000</td>\n",
       "      <td>4.125000</td>\n",
       "      <td>3.625000</td>\n",
       "      <td>3.125000</td>\n",
       "      <td>6.250000</td>\n",
       "      <td>14.750000</td>\n",
       "      <td>17.250000</td>\n",
       "      <td>8.750000</td>\n",
       "      <td>14.500000</td>\n",
       "      <td>9.500000</td>\n",
       "      <td>6.750000</td>\n",
       "      <td>15.250000</td>\n",
       "    </tr>\n",
       "  </tbody>\n",
       "</table>\n",
       "</div>"
      ],
      "text/plain": [
       "           S No        AGE     HEIGHT      WEIGHT    PAIN 1    PAIN 2  \\\n",
       "MBTI                                                                    \n",
       "ENFJ  44.400000  33.000000  66.200000  163.200000  2.800000  5.200000   \n",
       "ENFP  62.400000  42.600000  65.000000  159.000000  2.200000  2.000000   \n",
       "ENTJ  47.000000  36.200000  67.800000  164.000000  1.100000  4.300000   \n",
       "ENTP  56.400000  47.800000  65.600000  194.600000  1.800000  3.700000   \n",
       "ESFJ  54.909091  45.727273  64.909091  156.636364  2.363636  2.590909   \n",
       "ESFP  56.416667  40.583333  64.916667  154.500000  2.333333  3.916667   \n",
       "ESTJ  38.571429  55.285714  65.714286  165.142857  1.714286  3.428571   \n",
       "ESTP  44.000000  39.800000  67.100000  163.200000  1.200000  3.200000   \n",
       "INFJ  34.750000  36.250000  65.750000  136.500000  2.500000  4.875000   \n",
       "INFP  59.200000  36.200000  64.800000  132.200000  2.000000  4.400000   \n",
       "INTJ  67.000000  24.000000  73.000000  155.000000  2.000000  3.000000   \n",
       "ISFJ  49.000000  41.400000  64.600000  144.200000  2.200000  3.000000   \n",
       "ISFP  45.428571  55.857143  66.000000  157.714286  1.428571  6.214286   \n",
       "ISTJ  28.333333  52.500000  66.166667  155.500000  4.416667  4.416667   \n",
       "ISTP  41.000000  51.250000  65.500000  195.250000  2.375000  4.125000   \n",
       "\n",
       "        PAIN 3    PAIN 4          E          I          S          N  \\\n",
       "MBTI                                                                   \n",
       "ENFJ  2.800000  3.400000  16.800000   4.200000  11.200000  14.400000   \n",
       "ENFP  1.500000  1.200000  17.600000   3.400000   8.800000  17.200000   \n",
       "ENTJ  1.700000  1.500000  17.200000   3.800000  10.400000  15.600000   \n",
       "ENTP  0.600000  4.400000  16.600000   4.400000   9.200000  16.800000   \n",
       "ESFJ  1.954545  3.636364  15.000000   6.000000  17.909091   9.909091   \n",
       "ESFP  1.125000  1.833333  16.083333   4.916667  17.000000   8.916667   \n",
       "ESTJ  2.928571  4.785714  14.285714   6.714286  17.428571   8.571429   \n",
       "ESTP  1.700000  2.850000  16.200000   4.800000  19.100000   6.900000   \n",
       "INFJ  5.000000  2.750000   5.250000  15.250000  13.750000  12.250000   \n",
       "INFP  2.600000  2.600000   6.200000  14.800000  10.200000  15.800000   \n",
       "INTJ  0.000000  0.000000   5.000000  16.000000   9.000000  17.000000   \n",
       "ISFJ  0.400000  1.000000   4.400000  16.600000  19.800000   6.200000   \n",
       "ISFP  1.642857  2.428571   6.571429  14.428571  17.714286   8.285714   \n",
       "ISTJ  2.416667  0.750000   5.333333  15.666667  17.500000   8.500000   \n",
       "ISTP  3.625000  3.125000   6.250000  14.750000  17.250000   8.750000   \n",
       "\n",
       "              T          F          J          P  \n",
       "MBTI                                              \n",
       "ENFJ   5.800000  18.000000  15.200000   6.800000  \n",
       "ENFP   5.500000  18.500000   3.500000  18.500000  \n",
       "ENTJ  12.600000  11.400000  15.400000   6.600000  \n",
       "ENTP  17.600000   6.400000   6.400000  15.400000  \n",
       "ESFJ   8.000000  15.818182  14.909091   7.090909  \n",
       "ESFP   7.083333  16.750000   5.916667  16.083333  \n",
       "ESTJ  14.428571   9.571429  16.428571   5.571429  \n",
       "ESTP  16.100000   7.900000   6.800000  15.200000  \n",
       "INFJ   8.000000  16.000000  15.250000   6.750000  \n",
       "INFP   7.400000  16.600000   6.600000  15.400000  \n",
       "INTJ  14.000000  10.000000  17.000000   5.000000  \n",
       "ISFJ   8.600000  15.400000  15.800000   6.400000  \n",
       "ISFP   8.285714  15.714286   6.142857  15.857143  \n",
       "ISTJ  17.833333   6.166667  17.166667   4.833333  \n",
       "ISTP  14.500000   9.500000   6.750000  15.250000  "
      ]
     },
     "execution_count": 88,
     "metadata": {},
     "output_type": "execute_result"
    }
   ],
   "source": [
    "df.groupby('MBTI').mean()"
   ]
  },
  {
   "cell_type": "code",
   "execution_count": 81,
   "metadata": {},
   "outputs": [],
   "source": [
    "df_c = df1.copy()\n",
    "Less_20 = df_c['AGE'] < 20\n",
    "df_c.loc[Less_20, 'AGE'] = 0\n",
    "Between_20_30 = (df_c['AGE'] >= 20) & (df_c['AGE'] < 30)\n",
    "df_c.loc[Between_20_30, 'AGE'] = 1\n",
    "Between_30_40 = (df_c['AGE'] >= 30) & (df_c['AGE'] < 40)\n",
    "df_c.loc[Between_30_40, 'AGE'] = 2\n",
    "Between_40_50 = (df_c['AGE'] >= 40) & (df_c['AGE'] < 50)\n",
    "df_c.loc[Between_40_50, 'AGE'] = 3\n",
    "Between_50_60 = (df_c['AGE'] >= 50) & (df_c['AGE'] < 60)\n",
    "df_c.loc[Between_50_60, 'AGE'] = 4\n",
    "Between_60_70 = (df_c['AGE'] >= 60) & (df_c['AGE'] < 70)\n",
    "df_c.loc[Between_60_70, 'AGE'] = 5\n",
    "Between_70_80 = (df_c['AGE'] >= 70) & (df_c['AGE'] < 80)\n",
    "df_c.loc[Between_70_80, 'AGE'] = 6\n",
    "Between_80_90 = (df_c['AGE'] >= 80) & (df_c['AGE'] < 90)\n",
    "df_c.loc[Between_80_90, 'AGE'] = 7\n"
   ]
  },
  {
   "cell_type": "code",
   "execution_count": 83,
   "metadata": {},
   "outputs": [
    {
     "data": {
      "text/plain": [
       "3    27\n",
       "4    17\n",
       "5    14\n",
       "1    14\n",
       "2    10\n",
       "0    10\n",
       "6     3\n",
       "7     2\n",
       "Name: AGE, dtype: int64"
      ]
     },
     "execution_count": 83,
     "metadata": {},
     "output_type": "execute_result"
    }
   ],
   "source": [
    "df_c.head()\n",
    "df_c['AGE'].value_counts()"
   ]
  },
  {
   "attachments": {},
   "cell_type": "markdown",
   "metadata": {},
   "source": [
    "## Step 3: Age factor in each personality count."
   ]
  },
  {
   "cell_type": "code",
   "execution_count": 4,
   "metadata": {},
   "outputs": [
    {
     "data": {
      "text/plain": [
       "ESFP    12\n",
       "ESFJ    11\n",
       "ESTP    10\n",
       "ENFP    10\n",
       "ESTJ     7\n",
       "ISFP     7\n",
       "ISTJ     6\n",
       "ENFJ     5\n",
       "ENTP     5\n",
       "ISFJ     5\n",
       "ENTJ     5\n",
       "INFP     5\n",
       "ISTP     4\n",
       "INFJ     4\n",
       "INTJ     1\n",
       "Name: MBTI, dtype: int64"
      ]
     },
     "execution_count": 4,
     "metadata": {},
     "output_type": "execute_result"
    }
   ],
   "source": [
    "df1[\"MBTI\"].value_counts()"
   ]
  },
  {
   "cell_type": "code",
   "execution_count": 42,
   "metadata": {},
   "outputs": [
    {
     "data": {
      "application/vnd.plotly.v1+json": {
       "config": {
        "plotlyServerURL": "https://plot.ly"
       },
       "data": [
        {
         "alignmentgroup": "True",
         "hovertemplate": "MBTI=%{x}<br>AGE=%{y}<extra></extra>",
         "legendgroup": "ESFJ",
         "marker": {
          "color": "rgb(102, 197, 204)",
          "pattern": {
           "shape": ""
          }
         },
         "name": "ESFJ",
         "offsetgroup": "ESFJ",
         "orientation": "v",
         "showlegend": true,
         "textposition": "auto",
         "type": "bar",
         "x": [
          "ESFJ",
          "ESFJ",
          "ESFJ",
          "ESFJ",
          "ESFJ",
          "ESFJ",
          "ESFJ",
          "ESFJ",
          "ESFJ",
          "ESFJ",
          "ESFJ"
         ],
         "xaxis": "x",
         "y": [
          53,
          66,
          48,
          71,
          47,
          42,
          53,
          28,
          22,
          45,
          28
         ],
         "yaxis": "y"
        },
        {
         "alignmentgroup": "True",
         "hovertemplate": "MBTI=%{x}<br>AGE=%{y}<extra></extra>",
         "legendgroup": "ISTJ",
         "marker": {
          "color": "rgb(246, 207, 113)",
          "pattern": {
           "shape": ""
          }
         },
         "name": "ISTJ",
         "offsetgroup": "ISTJ",
         "orientation": "v",
         "showlegend": true,
         "textposition": "auto",
         "type": "bar",
         "x": [
          "ISTJ",
          "ISTJ",
          "ISTJ",
          "ISTJ",
          "ISTJ",
          "ISTJ"
         ],
         "xaxis": "x",
         "y": [
          52,
          51,
          62,
          66,
          66,
          18
         ],
         "yaxis": "y"
        },
        {
         "alignmentgroup": "True",
         "hovertemplate": "MBTI=%{x}<br>AGE=%{y}<extra></extra>",
         "legendgroup": "ESTJ",
         "marker": {
          "color": "rgb(248, 156, 116)",
          "pattern": {
           "shape": ""
          }
         },
         "name": "ESTJ",
         "offsetgroup": "ESTJ",
         "orientation": "v",
         "showlegend": true,
         "textposition": "auto",
         "type": "bar",
         "x": [
          "ESTJ",
          "ESTJ",
          "ESTJ",
          "ESTJ",
          "ESTJ",
          "ESTJ",
          "ESTJ"
         ],
         "xaxis": "x",
         "y": [
          30,
          65,
          59,
          47,
          62,
          49,
          75
         ],
         "yaxis": "y"
        },
        {
         "alignmentgroup": "True",
         "hovertemplate": "MBTI=%{x}<br>AGE=%{y}<extra></extra>",
         "legendgroup": "ENFJ",
         "marker": {
          "color": "rgb(220, 176, 242)",
          "pattern": {
           "shape": ""
          }
         },
         "name": "ENFJ",
         "offsetgroup": "ENFJ",
         "orientation": "v",
         "showlegend": true,
         "textposition": "auto",
         "type": "bar",
         "x": [
          "ENFJ",
          "ENFJ",
          "ENFJ",
          "ENFJ",
          "ENFJ"
         ],
         "xaxis": "x",
         "y": [
          45,
          42,
          49,
          13,
          16
         ],
         "yaxis": "y"
        },
        {
         "alignmentgroup": "True",
         "hovertemplate": "MBTI=%{x}<br>AGE=%{y}<extra></extra>",
         "legendgroup": "ISFP",
         "marker": {
          "color": "rgb(135, 197, 95)",
          "pattern": {
           "shape": ""
          }
         },
         "name": "ISFP",
         "offsetgroup": "ISFP",
         "orientation": "v",
         "showlegend": true,
         "textposition": "auto",
         "type": "bar",
         "x": [
          "ISFP",
          "ISFP",
          "ISFP",
          "ISFP",
          "ISFP",
          "ISFP",
          "ISFP"
         ],
         "xaxis": "x",
         "y": [
          68,
          48,
          54,
          57,
          63,
          45,
          56
         ],
         "yaxis": "y"
        },
        {
         "alignmentgroup": "True",
         "hovertemplate": "MBTI=%{x}<br>AGE=%{y}<extra></extra>",
         "legendgroup": "ISTP",
         "marker": {
          "color": "rgb(158, 185, 243)",
          "pattern": {
           "shape": ""
          }
         },
         "name": "ISTP",
         "offsetgroup": "ISTP",
         "orientation": "v",
         "showlegend": true,
         "textposition": "auto",
         "type": "bar",
         "x": [
          "ISTP",
          "ISTP",
          "ISTP",
          "ISTP"
         ],
         "xaxis": "x",
         "y": [
          62,
          40,
          43,
          60
         ],
         "yaxis": "y"
        },
        {
         "alignmentgroup": "True",
         "hovertemplate": "MBTI=%{x}<br>AGE=%{y}<extra></extra>",
         "legendgroup": "INFJ",
         "marker": {
          "color": "rgb(254, 136, 177)",
          "pattern": {
           "shape": ""
          }
         },
         "name": "INFJ",
         "offsetgroup": "INFJ",
         "orientation": "v",
         "showlegend": true,
         "textposition": "auto",
         "type": "bar",
         "x": [
          "INFJ",
          "INFJ",
          "INFJ",
          "INFJ"
         ],
         "xaxis": "x",
         "y": [
          58,
          50,
          18,
          19
         ],
         "yaxis": "y"
        },
        {
         "alignmentgroup": "True",
         "hovertemplate": "MBTI=%{x}<br>AGE=%{y}<extra></extra>",
         "legendgroup": "ENTP",
         "marker": {
          "color": "rgb(201, 219, 116)",
          "pattern": {
           "shape": ""
          }
         },
         "name": "ENTP",
         "offsetgroup": "ENTP",
         "orientation": "v",
         "showlegend": true,
         "textposition": "auto",
         "type": "bar",
         "x": [
          "ENTP",
          "ENTP",
          "ENTP",
          "ENTP",
          "ENTP"
         ],
         "xaxis": "x",
         "y": [
          61,
          56,
          28,
          39,
          55
         ],
         "yaxis": "y"
        },
        {
         "alignmentgroup": "True",
         "hovertemplate": "MBTI=%{x}<br>AGE=%{y}<extra></extra>",
         "legendgroup": "ISFJ",
         "marker": {
          "color": "rgb(139, 224, 164)",
          "pattern": {
           "shape": ""
          }
         },
         "name": "ISFJ",
         "offsetgroup": "ISFJ",
         "orientation": "v",
         "showlegend": true,
         "textposition": "auto",
         "type": "bar",
         "x": [
          "ISFJ",
          "ISFJ",
          "ISFJ",
          "ISFJ",
          "ISFJ"
         ],
         "xaxis": "x",
         "y": [
          33,
          41,
          43,
          45,
          45
         ],
         "yaxis": "y"
        },
        {
         "alignmentgroup": "True",
         "hovertemplate": "MBTI=%{x}<br>AGE=%{y}<extra></extra>",
         "legendgroup": "ENTJ",
         "marker": {
          "color": "rgb(180, 151, 231)",
          "pattern": {
           "shape": ""
          }
         },
         "name": "ENTJ",
         "offsetgroup": "ENTJ",
         "orientation": "v",
         "showlegend": true,
         "textposition": "auto",
         "type": "bar",
         "x": [
          "ENTJ",
          "ENTJ",
          "ENTJ",
          "ENTJ",
          "ENTJ"
         ],
         "xaxis": "x",
         "y": [
          57,
          26,
          34,
          45,
          19
         ],
         "yaxis": "y"
        },
        {
         "alignmentgroup": "True",
         "hovertemplate": "MBTI=%{x}<br>AGE=%{y}<extra></extra>",
         "legendgroup": "ESTP",
         "marker": {
          "color": "rgb(179, 179, 179)",
          "pattern": {
           "shape": ""
          }
         },
         "name": "ESTP",
         "offsetgroup": "ESTP",
         "orientation": "v",
         "showlegend": true,
         "textposition": "auto",
         "type": "bar",
         "x": [
          "ESTP",
          "ESTP",
          "ESTP",
          "ESTP",
          "ESTP",
          "ESTP",
          "ESTP",
          "ESTP",
          "ESTP",
          "ESTP"
         ],
         "xaxis": "x",
         "y": [
          30,
          64,
          71,
          36,
          20,
          61,
          20,
          25,
          55,
          16
         ],
         "yaxis": "y"
        },
        {
         "alignmentgroup": "True",
         "hovertemplate": "MBTI=%{x}<br>AGE=%{y}<extra></extra>",
         "legendgroup": "ENFP",
         "marker": {
          "color": "rgb(102, 197, 204)",
          "pattern": {
           "shape": ""
          }
         },
         "name": "ENFP",
         "offsetgroup": "ENFP",
         "orientation": "v",
         "showlegend": true,
         "textposition": "auto",
         "type": "bar",
         "x": [
          "ENFP",
          "ENFP",
          "ENFP",
          "ENFP",
          "ENFP",
          "ENFP",
          "ENFP",
          "ENFP",
          "ENFP",
          "ENFP"
         ],
         "xaxis": "x",
         "y": [
          33,
          43,
          52,
          48,
          80,
          44,
          11,
          29,
          43,
          43
         ],
         "yaxis": "y"
        },
        {
         "alignmentgroup": "True",
         "hovertemplate": "MBTI=%{x}<br>AGE=%{y}<extra></extra>",
         "legendgroup": "ESFP",
         "marker": {
          "color": "rgb(246, 207, 113)",
          "pattern": {
           "shape": ""
          }
         },
         "name": "ESFP",
         "offsetgroup": "ESFP",
         "orientation": "v",
         "showlegend": true,
         "textposition": "auto",
         "type": "bar",
         "x": [
          "ESFP",
          "ESFP",
          "ESFP",
          "ESFP",
          "ESFP",
          "ESFP",
          "ESFP",
          "ESFP",
          "ESFP",
          "ESFP",
          "ESFP",
          "ESFP"
         ],
         "xaxis": "x",
         "y": [
          23,
          46,
          82,
          56,
          50,
          29,
          20,
          21,
          42,
          30,
          49,
          39
         ],
         "yaxis": "y"
        },
        {
         "alignmentgroup": "True",
         "hovertemplate": "MBTI=%{x}<br>AGE=%{y}<extra></extra>",
         "legendgroup": "INFP",
         "marker": {
          "color": "rgb(248, 156, 116)",
          "pattern": {
           "shape": ""
          }
         },
         "name": "INFP",
         "offsetgroup": "INFP",
         "orientation": "v",
         "showlegend": true,
         "textposition": "auto",
         "type": "bar",
         "x": [
          "INFP",
          "INFP",
          "INFP",
          "INFP",
          "INFP"
         ],
         "xaxis": "x",
         "y": [
          63,
          17,
          37,
          48,
          16
         ],
         "yaxis": "y"
        },
        {
         "alignmentgroup": "True",
         "hovertemplate": "MBTI=%{x}<br>AGE=%{y}<extra></extra>",
         "legendgroup": "INTJ",
         "marker": {
          "color": "rgb(220, 176, 242)",
          "pattern": {
           "shape": ""
          }
         },
         "name": "INTJ",
         "offsetgroup": "INTJ",
         "orientation": "v",
         "showlegend": true,
         "textposition": "auto",
         "type": "bar",
         "x": [
          "INTJ"
         ],
         "xaxis": "x",
         "y": [
          24
         ],
         "yaxis": "y"
        }
       ],
       "layout": {
        "barmode": "relative",
        "legend": {
         "title": {
          "text": "MBTI"
         },
         "tracegroupgap": 0
        },
        "template": {
         "data": {
          "bar": [
           {
            "error_x": {
             "color": "#2a3f5f"
            },
            "error_y": {
             "color": "#2a3f5f"
            },
            "marker": {
             "line": {
              "color": "#E5ECF6",
              "width": 0.5
             },
             "pattern": {
              "fillmode": "overlay",
              "size": 10,
              "solidity": 0.2
             }
            },
            "type": "bar"
           }
          ],
          "barpolar": [
           {
            "marker": {
             "line": {
              "color": "#E5ECF6",
              "width": 0.5
             },
             "pattern": {
              "fillmode": "overlay",
              "size": 10,
              "solidity": 0.2
             }
            },
            "type": "barpolar"
           }
          ],
          "carpet": [
           {
            "aaxis": {
             "endlinecolor": "#2a3f5f",
             "gridcolor": "white",
             "linecolor": "white",
             "minorgridcolor": "white",
             "startlinecolor": "#2a3f5f"
            },
            "baxis": {
             "endlinecolor": "#2a3f5f",
             "gridcolor": "white",
             "linecolor": "white",
             "minorgridcolor": "white",
             "startlinecolor": "#2a3f5f"
            },
            "type": "carpet"
           }
          ],
          "choropleth": [
           {
            "colorbar": {
             "outlinewidth": 0,
             "ticks": ""
            },
            "type": "choropleth"
           }
          ],
          "contour": [
           {
            "colorbar": {
             "outlinewidth": 0,
             "ticks": ""
            },
            "colorscale": [
             [
              0,
              "#0d0887"
             ],
             [
              0.1111111111111111,
              "#46039f"
             ],
             [
              0.2222222222222222,
              "#7201a8"
             ],
             [
              0.3333333333333333,
              "#9c179e"
             ],
             [
              0.4444444444444444,
              "#bd3786"
             ],
             [
              0.5555555555555556,
              "#d8576b"
             ],
             [
              0.6666666666666666,
              "#ed7953"
             ],
             [
              0.7777777777777778,
              "#fb9f3a"
             ],
             [
              0.8888888888888888,
              "#fdca26"
             ],
             [
              1,
              "#f0f921"
             ]
            ],
            "type": "contour"
           }
          ],
          "contourcarpet": [
           {
            "colorbar": {
             "outlinewidth": 0,
             "ticks": ""
            },
            "type": "contourcarpet"
           }
          ],
          "heatmap": [
           {
            "colorbar": {
             "outlinewidth": 0,
             "ticks": ""
            },
            "colorscale": [
             [
              0,
              "#0d0887"
             ],
             [
              0.1111111111111111,
              "#46039f"
             ],
             [
              0.2222222222222222,
              "#7201a8"
             ],
             [
              0.3333333333333333,
              "#9c179e"
             ],
             [
              0.4444444444444444,
              "#bd3786"
             ],
             [
              0.5555555555555556,
              "#d8576b"
             ],
             [
              0.6666666666666666,
              "#ed7953"
             ],
             [
              0.7777777777777778,
              "#fb9f3a"
             ],
             [
              0.8888888888888888,
              "#fdca26"
             ],
             [
              1,
              "#f0f921"
             ]
            ],
            "type": "heatmap"
           }
          ],
          "heatmapgl": [
           {
            "colorbar": {
             "outlinewidth": 0,
             "ticks": ""
            },
            "colorscale": [
             [
              0,
              "#0d0887"
             ],
             [
              0.1111111111111111,
              "#46039f"
             ],
             [
              0.2222222222222222,
              "#7201a8"
             ],
             [
              0.3333333333333333,
              "#9c179e"
             ],
             [
              0.4444444444444444,
              "#bd3786"
             ],
             [
              0.5555555555555556,
              "#d8576b"
             ],
             [
              0.6666666666666666,
              "#ed7953"
             ],
             [
              0.7777777777777778,
              "#fb9f3a"
             ],
             [
              0.8888888888888888,
              "#fdca26"
             ],
             [
              1,
              "#f0f921"
             ]
            ],
            "type": "heatmapgl"
           }
          ],
          "histogram": [
           {
            "marker": {
             "pattern": {
              "fillmode": "overlay",
              "size": 10,
              "solidity": 0.2
             }
            },
            "type": "histogram"
           }
          ],
          "histogram2d": [
           {
            "colorbar": {
             "outlinewidth": 0,
             "ticks": ""
            },
            "colorscale": [
             [
              0,
              "#0d0887"
             ],
             [
              0.1111111111111111,
              "#46039f"
             ],
             [
              0.2222222222222222,
              "#7201a8"
             ],
             [
              0.3333333333333333,
              "#9c179e"
             ],
             [
              0.4444444444444444,
              "#bd3786"
             ],
             [
              0.5555555555555556,
              "#d8576b"
             ],
             [
              0.6666666666666666,
              "#ed7953"
             ],
             [
              0.7777777777777778,
              "#fb9f3a"
             ],
             [
              0.8888888888888888,
              "#fdca26"
             ],
             [
              1,
              "#f0f921"
             ]
            ],
            "type": "histogram2d"
           }
          ],
          "histogram2dcontour": [
           {
            "colorbar": {
             "outlinewidth": 0,
             "ticks": ""
            },
            "colorscale": [
             [
              0,
              "#0d0887"
             ],
             [
              0.1111111111111111,
              "#46039f"
             ],
             [
              0.2222222222222222,
              "#7201a8"
             ],
             [
              0.3333333333333333,
              "#9c179e"
             ],
             [
              0.4444444444444444,
              "#bd3786"
             ],
             [
              0.5555555555555556,
              "#d8576b"
             ],
             [
              0.6666666666666666,
              "#ed7953"
             ],
             [
              0.7777777777777778,
              "#fb9f3a"
             ],
             [
              0.8888888888888888,
              "#fdca26"
             ],
             [
              1,
              "#f0f921"
             ]
            ],
            "type": "histogram2dcontour"
           }
          ],
          "mesh3d": [
           {
            "colorbar": {
             "outlinewidth": 0,
             "ticks": ""
            },
            "type": "mesh3d"
           }
          ],
          "parcoords": [
           {
            "line": {
             "colorbar": {
              "outlinewidth": 0,
              "ticks": ""
             }
            },
            "type": "parcoords"
           }
          ],
          "pie": [
           {
            "automargin": true,
            "type": "pie"
           }
          ],
          "scatter": [
           {
            "fillpattern": {
             "fillmode": "overlay",
             "size": 10,
             "solidity": 0.2
            },
            "type": "scatter"
           }
          ],
          "scatter3d": [
           {
            "line": {
             "colorbar": {
              "outlinewidth": 0,
              "ticks": ""
             }
            },
            "marker": {
             "colorbar": {
              "outlinewidth": 0,
              "ticks": ""
             }
            },
            "type": "scatter3d"
           }
          ],
          "scattercarpet": [
           {
            "marker": {
             "colorbar": {
              "outlinewidth": 0,
              "ticks": ""
             }
            },
            "type": "scattercarpet"
           }
          ],
          "scattergeo": [
           {
            "marker": {
             "colorbar": {
              "outlinewidth": 0,
              "ticks": ""
             }
            },
            "type": "scattergeo"
           }
          ],
          "scattergl": [
           {
            "marker": {
             "colorbar": {
              "outlinewidth": 0,
              "ticks": ""
             }
            },
            "type": "scattergl"
           }
          ],
          "scattermapbox": [
           {
            "marker": {
             "colorbar": {
              "outlinewidth": 0,
              "ticks": ""
             }
            },
            "type": "scattermapbox"
           }
          ],
          "scatterpolar": [
           {
            "marker": {
             "colorbar": {
              "outlinewidth": 0,
              "ticks": ""
             }
            },
            "type": "scatterpolar"
           }
          ],
          "scatterpolargl": [
           {
            "marker": {
             "colorbar": {
              "outlinewidth": 0,
              "ticks": ""
             }
            },
            "type": "scatterpolargl"
           }
          ],
          "scatterternary": [
           {
            "marker": {
             "colorbar": {
              "outlinewidth": 0,
              "ticks": ""
             }
            },
            "type": "scatterternary"
           }
          ],
          "surface": [
           {
            "colorbar": {
             "outlinewidth": 0,
             "ticks": ""
            },
            "colorscale": [
             [
              0,
              "#0d0887"
             ],
             [
              0.1111111111111111,
              "#46039f"
             ],
             [
              0.2222222222222222,
              "#7201a8"
             ],
             [
              0.3333333333333333,
              "#9c179e"
             ],
             [
              0.4444444444444444,
              "#bd3786"
             ],
             [
              0.5555555555555556,
              "#d8576b"
             ],
             [
              0.6666666666666666,
              "#ed7953"
             ],
             [
              0.7777777777777778,
              "#fb9f3a"
             ],
             [
              0.8888888888888888,
              "#fdca26"
             ],
             [
              1,
              "#f0f921"
             ]
            ],
            "type": "surface"
           }
          ],
          "table": [
           {
            "cells": {
             "fill": {
              "color": "#EBF0F8"
             },
             "line": {
              "color": "white"
             }
            },
            "header": {
             "fill": {
              "color": "#C8D4E3"
             },
             "line": {
              "color": "white"
             }
            },
            "type": "table"
           }
          ]
         },
         "layout": {
          "annotationdefaults": {
           "arrowcolor": "#2a3f5f",
           "arrowhead": 0,
           "arrowwidth": 1
          },
          "autotypenumbers": "strict",
          "coloraxis": {
           "colorbar": {
            "outlinewidth": 0,
            "ticks": ""
           }
          },
          "colorscale": {
           "diverging": [
            [
             0,
             "#8e0152"
            ],
            [
             0.1,
             "#c51b7d"
            ],
            [
             0.2,
             "#de77ae"
            ],
            [
             0.3,
             "#f1b6da"
            ],
            [
             0.4,
             "#fde0ef"
            ],
            [
             0.5,
             "#f7f7f7"
            ],
            [
             0.6,
             "#e6f5d0"
            ],
            [
             0.7,
             "#b8e186"
            ],
            [
             0.8,
             "#7fbc41"
            ],
            [
             0.9,
             "#4d9221"
            ],
            [
             1,
             "#276419"
            ]
           ],
           "sequential": [
            [
             0,
             "#0d0887"
            ],
            [
             0.1111111111111111,
             "#46039f"
            ],
            [
             0.2222222222222222,
             "#7201a8"
            ],
            [
             0.3333333333333333,
             "#9c179e"
            ],
            [
             0.4444444444444444,
             "#bd3786"
            ],
            [
             0.5555555555555556,
             "#d8576b"
            ],
            [
             0.6666666666666666,
             "#ed7953"
            ],
            [
             0.7777777777777778,
             "#fb9f3a"
            ],
            [
             0.8888888888888888,
             "#fdca26"
            ],
            [
             1,
             "#f0f921"
            ]
           ],
           "sequentialminus": [
            [
             0,
             "#0d0887"
            ],
            [
             0.1111111111111111,
             "#46039f"
            ],
            [
             0.2222222222222222,
             "#7201a8"
            ],
            [
             0.3333333333333333,
             "#9c179e"
            ],
            [
             0.4444444444444444,
             "#bd3786"
            ],
            [
             0.5555555555555556,
             "#d8576b"
            ],
            [
             0.6666666666666666,
             "#ed7953"
            ],
            [
             0.7777777777777778,
             "#fb9f3a"
            ],
            [
             0.8888888888888888,
             "#fdca26"
            ],
            [
             1,
             "#f0f921"
            ]
           ]
          },
          "colorway": [
           "#636efa",
           "#EF553B",
           "#00cc96",
           "#ab63fa",
           "#FFA15A",
           "#19d3f3",
           "#FF6692",
           "#B6E880",
           "#FF97FF",
           "#FECB52"
          ],
          "font": {
           "color": "#2a3f5f"
          },
          "geo": {
           "bgcolor": "white",
           "lakecolor": "white",
           "landcolor": "#E5ECF6",
           "showlakes": true,
           "showland": true,
           "subunitcolor": "white"
          },
          "hoverlabel": {
           "align": "left"
          },
          "hovermode": "closest",
          "mapbox": {
           "style": "light"
          },
          "paper_bgcolor": "white",
          "plot_bgcolor": "#E5ECF6",
          "polar": {
           "angularaxis": {
            "gridcolor": "white",
            "linecolor": "white",
            "ticks": ""
           },
           "bgcolor": "#E5ECF6",
           "radialaxis": {
            "gridcolor": "white",
            "linecolor": "white",
            "ticks": ""
           }
          },
          "scene": {
           "xaxis": {
            "backgroundcolor": "#E5ECF6",
            "gridcolor": "white",
            "gridwidth": 2,
            "linecolor": "white",
            "showbackground": true,
            "ticks": "",
            "zerolinecolor": "white"
           },
           "yaxis": {
            "backgroundcolor": "#E5ECF6",
            "gridcolor": "white",
            "gridwidth": 2,
            "linecolor": "white",
            "showbackground": true,
            "ticks": "",
            "zerolinecolor": "white"
           },
           "zaxis": {
            "backgroundcolor": "#E5ECF6",
            "gridcolor": "white",
            "gridwidth": 2,
            "linecolor": "white",
            "showbackground": true,
            "ticks": "",
            "zerolinecolor": "white"
           }
          },
          "shapedefaults": {
           "line": {
            "color": "#2a3f5f"
           }
          },
          "ternary": {
           "aaxis": {
            "gridcolor": "white",
            "linecolor": "white",
            "ticks": ""
           },
           "baxis": {
            "gridcolor": "white",
            "linecolor": "white",
            "ticks": ""
           },
           "bgcolor": "#E5ECF6",
           "caxis": {
            "gridcolor": "white",
            "linecolor": "white",
            "ticks": ""
           }
          },
          "title": {
           "x": 0.05
          },
          "xaxis": {
           "automargin": true,
           "gridcolor": "white",
           "linecolor": "white",
           "ticks": "",
           "title": {
            "standoff": 15
           },
           "zerolinecolor": "white",
           "zerolinewidth": 2
          },
          "yaxis": {
           "automargin": true,
           "gridcolor": "white",
           "linecolor": "white",
           "ticks": "",
           "title": {
            "standoff": 15
           },
           "zerolinecolor": "white",
           "zerolinewidth": 2
          }
         }
        },
        "title": {
         "text": "Age Distribution of MBTI Types"
        },
        "xaxis": {
         "anchor": "y",
         "categoryarray": [
          "ESFJ",
          "ISTJ",
          "ESTJ",
          "ENFJ",
          "ISFP",
          "ISTP",
          "INFJ",
          "ENTP",
          "ISFJ",
          "ENTJ",
          "ESTP",
          "ENFP",
          "ESFP",
          "INFP",
          "INTJ"
         ],
         "categoryorder": "array",
         "domain": [
          0,
          1
         ],
         "title": {
          "text": "MBTI"
         }
        },
        "yaxis": {
         "anchor": "x",
         "domain": [
          0,
          1
         ],
         "title": {
          "text": "AGE"
         }
        }
       }
      }
     },
     "metadata": {},
     "output_type": "display_data"
    }
   ],
   "source": [
    "fig = px.bar(df, x='MBTI', y=(\"AGE\"), title='Age Distribution of MBTI Types', color='MBTI', color_discrete_sequence=px.colors.qualitative.Pastel)\n",
    "fig.show() "
   ]
  },
  {
   "attachments": {},
   "cell_type": "markdown",
   "metadata": {},
   "source": [
    "Activity level of each personality types."
   ]
  },
  {
   "cell_type": "code",
   "execution_count": 66,
   "metadata": {},
   "outputs": [
    {
     "data": {
      "text/plain": [
       "<matplotlib.legend.Legend at 0x17b3bcccbe0>"
      ]
     },
     "execution_count": 66,
     "metadata": {},
     "output_type": "execute_result"
    },
    {
     "data": {
      "image/png": "[encoded data removed]",
      "text/plain": [
       "<Figure size 1200x600 with 1 Axes>"
      ]
     },
     "metadata": {},
     "output_type": "display_data"
    }
   ],
   "source": [
    "plt.figure(figsize=(12,6))\n",
    "sns.countplot(x='ACTIVITY LEVEL', data=df1, hue='MBTI', palette='Set1')\n",
    "plt.legend(bbox_to_anchor=(1.05, 1), loc=2, borderaxespad=0.)"
   ]
  },
  {
   "cell_type": "code",
   "execution_count": 67,
   "metadata": {},
   "outputs": [
    {
     "data": {
      "text/plain": [
       "<matplotlib.legend.Legend at 0x17b3bf1c2e0>"
      ]
     },
     "execution_count": 67,
     "metadata": {},
     "output_type": "execute_result"
    },
    {
     "data": {
      "image/png": "[encoded data removed]",
      "text/plain": [
       "<Figure size 1200x600 with 1 Axes>"
      ]
     },
     "metadata": {},
     "output_type": "display_data"
    }
   ],
   "source": [
    "plt.figure(figsize=(12,6))\n",
    "sns.countplot(x='ACTIVITY LEVEL', data=df1, hue='PAIN 1', palette='Set1')\n",
    "plt.legend(bbox_to_anchor=(1.05, 1), loc=2, borderaxespad=0.)"
   ]
  },
  {
   "cell_type": "code",
   "execution_count": 103,
   "metadata": {},
   "outputs": [
    {
     "data": {
      "text/plain": [
       "<matplotlib.legend.Legend at 0x17b40f796f0>"
      ]
     },
     "execution_count": 103,
     "metadata": {},
     "output_type": "execute_result"
    },
    {
     "data": {
      "image/png": "[encoded data removed]",
      "text/plain": [
       "<Figure size 1200x600 with 1 Axes>"
      ]
     },
     "metadata": {},
     "output_type": "display_data"
    }
   ],
   "source": [
    "plt.figure(figsize=(12,6))\n",
    "sns.countplot(x='AGE', data=df_c, hue='MBTI', palette='Set1')\n",
    "plt.legend(bbox_to_anchor=(1.05, 1), loc=2, borderaxespad=0.)"
   ]
  },
  {
   "cell_type": "code",
   "execution_count": 91,
   "metadata": {},
   "outputs": [
    {
     "data": {
      "text/plain": [
       "<AxesSubplot: xlabel='POSTURE', ylabel='count'>"
      ]
     },
     "execution_count": 91,
     "metadata": {},
     "output_type": "execute_result"
    },
    {
     "data": {
      "image/png": "[encoded data removed]",
      "text/plain": [
       "<Figure size 1200x600 with 1 Axes>"
      ]
     },
     "metadata": {},
     "output_type": "display_data"
    }
   ],
   "source": [
    "plt.figure(figsize=(12,6))\n",
    "sns.countplot(x='POSTURE', hue='MBTI', data=df, palette='rocket')\n"
   ]
  },
  {
   "cell_type": "code",
   "execution_count": null,
   "metadata": {},
   "outputs": [],
   "source": [
    "df.groupby('MBTI').mean()"
   ]
  },
  {
   "cell_type": "code",
   "execution_count": 104,
   "metadata": {},
   "outputs": [],
   "source": [
    "def make_plot():\n",
    "    plt.figure(figsize=(25,15))\n",
    "    plt.subplot(221)\n",
    "    sns.countplot(x='PAIN 1', hue='MBTI', data=df, palette='Set1')\n",
    "    plt.title('Original Data')\n",
    "    plt.subplot(222)\n",
    "    sns.countplot(x='PAIN 2', hue='MBTI', data=df, palette='Set1')\n",
    "    plt.title('Logistic Regression')\n",
    "    plt.subplot(223)\n",
    "    sns.countplot(x='PAIN 3', hue='MBTI', data=df, palette='Set1')\n",
    "    plt.title('Knn')\n",
    "    plt.subplot(224)\n",
    "    sns.countplot(x='PAIN 4', hue='MBTI', data=df, palette='Set1')\n",
    "    plt.title('Voting Classifier')"
   ]
  },
  {
   "cell_type": "code",
   "execution_count": 105,
   "metadata": {},
   "outputs": [
    {
     "data": {
      "image/png": "[encoded data removed]",
      "text/plain": [
       "<Figure size 2500x1500 with 4 Axes>"
      ]
     },
     "metadata": {},
     "output_type": "display_data"
    }
   ],
   "source": [
    "make_plot()"
   ]
  }
 ],
 "metadata": {
  "kernelspec": {
   "display_name": "Python 3",
   "language": "python",
   "name": "python3"
  },
  "language_info": {
   "codemirror_mode": {
    "name": "ipython",
    "version": 3
   },
   "file_extension": ".py",
   "mimetype": "text/x-python",
   "name": "python",
   "nbconvert_exporter": "python",
   "pygments_lexer": "ipython3",
   "version": "3.10.9"
  },
  "orig_nbformat": 4,
  "vscode": {
   "interpreter": {
    "hash": "72e8d30a90656593b51ea15d6f987a764333d10235447bc59ca983da97d3e7ef"
   }
  }
 },
 "nbformat": 4,
 "nbformat_minor": 2
}
